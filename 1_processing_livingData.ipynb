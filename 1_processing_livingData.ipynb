{
  "nbformat": 4,
  "nbformat_minor": 0,
  "metadata": {
    "colab": {
      "name": "1_processing_livingData.ipynb",
      "provenance": [],
      "authorship_tag": "ABX9TyOHuzjQE2zVBjL5dtWvd5Ib",
      "include_colab_link": true
    },
    "kernelspec": {
      "name": "python3",
      "display_name": "Python 3"
    },
    "language_info": {
      "name": "python"
    }
  },
  "cells": [
    {
      "cell_type": "markdown",
      "metadata": {
        "id": "view-in-github",
        "colab_type": "text"
      },
      "source": [
        "<a href=\"https://colab.research.google.com/github/selogdata/silver-adventure/blob/main/1_processing_livingData.ipynb\" target=\"_parent\"><img src=\"https://colab.research.google.com/assets/colab-badge.svg\" alt=\"Open In Colab\"/></a>"
      ]
    },
    {
      "cell_type": "code",
      "metadata": {
        "id": "w2kkqInucD8X"
      },
      "source": [
        ""
      ],
      "execution_count": null,
      "outputs": []
    },
    {
      "cell_type": "markdown",
      "metadata": {
        "id": "OlcDGaPTo7ay"
      },
      "source": [
        "# 1> 생활 데이터 표현하기"
      ]
    },
    {
      "cell_type": "markdown",
      "metadata": {
        "id": "aQrRSQFtcdR1"
      },
      "source": [
        "## 1) 유동 인구 데이터를 컴퓨터로 저장한 후 출력하기\n",
        "데이터\n",
        "242, 256, 237, 223, 263, 81, 46"
      ]
    },
    {
      "cell_type": "code",
      "metadata": {
        "colab": {
          "base_uri": "https://localhost:8080/"
        },
        "id": "WttyKkF8dTZm",
        "outputId": "2ae024e3-edcf-4420-b92f-e61aa397dfd8"
      },
      "source": [
        "a = [242, 256, 237, 223, 263, 81, 46]\n",
        "print('A =', a)"
      ],
      "execution_count": null,
      "outputs": [
        {
          "output_type": "stream",
          "text": [
            "A = [242, 256, 237, 223, 263, 81, 46]\n"
          ],
          "name": "stdout"
        }
      ]
    },
    {
      "cell_type": "markdown",
      "metadata": {
        "id": "soYrAphcgcVd"
      },
      "source": [
        "## 2) 유동 인구수 데이터의 총합과 평균 구하기\n",
        "### for i in range(시작-1, 끝):"
      ]
    },
    {
      "cell_type": "code",
      "metadata": {
        "colab": {
          "base_uri": "https://localhost:8080/"
        },
        "id": "l3X96KFZgSM7",
        "outputId": "2b061589-e0f5-4cd6-aa92-6aafbf6df5ac"
      },
      "source": [
        "n = len(a)\n",
        "\n",
        "print(n)"
      ],
      "execution_count": null,
      "outputs": [
        {
          "output_type": "stream",
          "text": [
            "7\n"
          ],
          "name": "stdout"
        }
      ]
    },
    {
      "cell_type": "code",
      "metadata": {
        "colab": {
          "base_uri": "https://localhost:8080/"
        },
        "id": "ZRzEKdN5hNSS",
        "outputId": "d3244abf-0ab9-42b6-b97a-be57cb0493d2"
      },
      "source": [
        "my_sum = 0\n",
        "\n",
        "for i in range(0, n): # 0부터 n-1까지\n",
        "    my_sum += a[i] # 누적 합, my_sum = my_sum + a[i]\n",
        "\n",
        "print('Total Sum :', my_sum)"
      ],
      "execution_count": null,
      "outputs": [
        {
          "output_type": "stream",
          "text": [
            "Total Sum : 1348\n"
          ],
          "name": "stdout"
        }
      ]
    },
    {
      "cell_type": "code",
      "metadata": {
        "colab": {
          "base_uri": "https://localhost:8080/"
        },
        "id": "sBoNp80CiGy_",
        "outputId": "7197461a-9448-4de0-c170-1c0f8b9f0933"
      },
      "source": [
        "my_avg = 0 # 초기화 => 꼭 해야 하나?\n",
        "\n",
        "my_avg = my_sum / n\n",
        "\n",
        "print('Total_Average:', my_avg)"
      ],
      "execution_count": null,
      "outputs": [
        {
          "output_type": "stream",
          "text": [
            "Total_Average: 192.57142857142858\n"
          ],
          "name": "stdout"
        }
      ]
    },
    {
      "cell_type": "markdown",
      "metadata": {
        "id": "jj1V5Fr1ibIk"
      },
      "source": [
        "## 3) 주어진 수열 데이터를 그래프로 표현하기\n",
        "**matplotlib**\n",
        "- 데이터를 시각화 하기 위해 Python 에서 많이 사용함\n",
        "- 다양한 그래프를 그릴 수 있음"
      ]
    },
    {
      "cell_type": "code",
      "metadata": {
        "colab": {
          "base_uri": "https://localhost:8080/",
          "height": 300
        },
        "id": "BjI33YIsiN69",
        "outputId": "b7e7fc25-d6c9-41a3-ccde-7e2fb42b0464"
      },
      "source": [
        "import matplotlib.pyplot as plt # pyplot 별명 plt\n",
        "\n",
        "# (((((error)))))============================================\n",
        "# 그래프 제목에 한글 표시하기 \n",
        "# from matplotlib import font_manager, rc\n",
        "# fpath = 'c:\\Windows\\Fonts\\malgun.ttf'\n",
        "# font_name = font_manager.FontProperties(fname = fpath).get_name()\n",
        "# fc('font', family = font_name)\n",
        "# ====================================================\n",
        "\n",
        "# x-axis\n",
        "x_data = ['MON', 'TUE', 'WED', 'THR', 'FRI', 'SAT', 'SUN']\n",
        "\n",
        "# 유동인구 제목 :  Floating Population Data (1week)\n",
        "plt.title('Floating Population Data (1week)', fontsize=16)\n",
        "\n",
        "# x-axis(요일), y-axis(유동인구수)\n",
        "plt.xlabel('Day of the week', fontsize=12)\n",
        "plt.ylabel('Floating Population', fontsize=12)\n",
        "\n",
        "# Scatterplot (점 그래프)\n",
        "plt.scatter(x_data, a)\n",
        "\n",
        "# line graph (선 그래프)\n",
        "plt.plot(x_data, a)\n",
        "\n",
        "# 그래프 보여주기\n",
        "plt.show()"
      ],
      "execution_count": null,
      "outputs": [
        {
          "output_type": "display_data",
          "data": {
            "image/png": "[encoded data removed]",
            "text/plain": [
              "<Figure size 432x288 with 1 Axes>"
            ]
          },
          "metadata": {
            "needs_background": "light"
          }
        }
      ]
    },
    {
      "cell_type": "markdown",
      "metadata": {
        "id": "V0eCFXLwkp3O"
      },
      "source": [
        "## 4) 주중 유동 인구수의 합과 평균을 구해 그래프와 함께 출력하기\n"
      ]
    },
    {
      "cell_type": "code",
      "metadata": {
        "colab": {
          "base_uri": "https://localhost:8080/"
        },
        "id": "11izoGhPkKU9",
        "outputId": "374d498c-6f8b-474a-c72d-4d6bf64a3d89"
      },
      "source": [
        "weekday_size = 5\n",
        "weekday_sum = 0 # 변수 초기화\n",
        "weekday_avg = 0 # 변수 초기화\n",
        "\n",
        "for i in range(0, weekday_size):\n",
        "    weekday_sum += a[i]\n",
        "\n",
        "weekday_avg = weekday_sum / weekday_size\n",
        "\n",
        "print('weekday Data :', a[0:5])\n",
        "print('weekday Sum :', weekday_sum)\n",
        "print('weekday Average :', weekday_avg)"
      ],
      "execution_count": null,
      "outputs": [
        {
          "output_type": "stream",
          "text": [
            "weekday Data : [242, 256, 237, 223, 263]\n",
            "weekday Sum : 1221\n",
            "weekday Average : 244.2\n"
          ],
          "name": "stdout"
        }
      ]
    },
    {
      "cell_type": "code",
      "metadata": {
        "colab": {
          "base_uri": "https://localhost:8080/",
          "height": 300
        },
        "id": "iFntGJCdnUu9",
        "outputId": "4123fd0b-e32c-40e2-ba7f-0d4dd5f94532"
      },
      "source": [
        "import matplotlib.pyplot as plt\n",
        "\n",
        "x_data = ['MON', 'TUE', 'WED', 'THR', 'FRI', 'SAT', 'SUN']\n",
        "\n",
        "plt.title('Floating Population Data (1week)', fontsize=16)\n",
        "\n",
        "plt.xlabel('Day of the week', fontsize=12)\n",
        "plt.ylabel('Floating Population', fontsize=12)\n",
        "\n",
        "plt.plot(x_data, a)\n",
        "\n",
        "# 점 그래프를 위에 얹는다.\n",
        "plt.scatter(x_data[0:weekday_size], a[0:weekday_size], c='red', s = 50) # color, size\n",
        "\n",
        "plt.show()"
      ],
      "execution_count": null,
      "outputs": [
        {
          "output_type": "display_data",
          "data": {
            "image/png": "[encoded data removed]",
            "text/plain": [
              "<Figure size 432x288 with 1 Axes>"
            ]
          },
          "metadata": {
            "needs_background": "light"
          }
        }
      ]
    },
    {
      "cell_type": "markdown",
      "metadata": {
        "id": "2pwhUIKVo1C4"
      },
      "source": [
        "# 2> 생활 데이터 다루기"
      ]
    },
    {
      "cell_type": "markdown",
      "metadata": {
        "id": "2gufVtudpTzW"
      },
      "source": [
        "## 1) 데이터 구조화하기\n",
        "- 2차원 배열로 확장\n",
        "- Array - List - Record\n",
        "- **a** *ij* : i 번째 요일의 j 시간대별 유동 인구 데이터\n",
        "  - `num` 행인의 수 (명)\n",
        "  - `wnum` 여성 행인의 수 (명)\n",
        "  - `ynum` 30대 이하 행인의 수 "
      ]
    },
    {
      "cell_type": "markdown",
      "metadata": {
        "id": "_tOGzhBHrXjM"
      },
      "source": [
        "## 2) 데이터를 직접 설정하기\n",
        "조사한 데이터를 컴퓨터로 옮기기\n",
        "- 딕셔너리 `{}`\n",
        "- 요일별로 시간대별 딕셔너리 타입의 데이터를 1차원 리스트로 설정\n",
        "- 요일별 리스트가 저장되면, 이 리스트들의 리스트로 구성된 2차원 리스트를 만들 수 있다."
      ]
    },
    {
      "cell_type": "code",
      "metadata": {
        "colab": {
          "base_uri": "https://localhost:8080/"
        },
        "id": "GI0x5KOrrMB-",
        "outputId": "9a831016-52a3-4b19-81bb-cc3da6616719"
      },
      "source": [
        "# {num, wnum, ynum}\n",
        "# 7 X 24 크기의 리스트 필요\n",
        "\n",
        "a1 = [] # 월요일 00시 ~ 24시\n",
        "a1.append({'num':0, 'wnum':0, 'ynum':0})\n",
        "a1.append({'num':0, 'wnum':0, 'ynum':0})\n",
        "a1.append({'num':0, 'wnum':0, 'ynum':0})\n",
        "a1.append({'num':0, 'wnum':0, 'ynum':0})\n",
        "a1.append({'num':0, 'wnum':0, 'ynum':0})\n",
        "a1.append({'num':7, 'wnum':5, 'ynum':6})\n",
        "a1.append({'num':4, 'wnum':1, 'ynum':3})\n",
        "a1.append({'num':20, 'wnum':1, 'ynum':16})\n",
        "a1.append({'num':22, 'wnum':0, 'ynum':16})\n",
        "a1.append({'num':17, 'wnum':4, 'ynum':16})\n",
        "a1.append({'num':5, 'wnum':1, 'ynum':5})\n",
        "a1.append({'num':13, 'wnum':5, 'ynum':13})\n",
        "a1.append({'num':19, 'wnum':11, 'ynum':18})\n",
        "a1.append({'num':9, 'wnum':5, 'ynum':1})\n",
        "a1.append({'num':14, 'wnum':10, 'ynum':4})\n",
        "a1.append({'num':18, 'wnum':16, 'ynum':4})\n",
        "a1.append({'num':15, 'wnum':13, 'ynum':2})\n",
        "a1.append({'num':13, 'wnum':5, 'ynum':10})\n",
        "a1.append({'num':18, 'wnum':13, 'ynum':14})\n",
        "a1.append({'num':16, 'wnum':16, 'ynum':13})\n",
        "a1.append({'num':8, 'wnum':5, 'ynum':7})\n",
        "a1.append({'num':10, 'wnum':8, 'ynum':7})\n",
        "a1.append({'num':10, 'wnum':8, 'ynum':10})\n",
        "a1.append({'num':4, 'wnum':0, 'ynum':10})\n",
        "\n",
        "print(a1)\n",
        "\n",
        "a2 = [] # 화요일 00시 ~ 24시\n",
        "a2.append({'num':0, 'wnum':0, 'ynum':0}) #dummy\n",
        "\n",
        "# 2개의 리스트를 2차원 리스트로 만들기\n",
        "a = [a1, a2]\n",
        "# print(a)\n",
        "\n",
        "# 2차원 리스트의 첫 번째 리스트(월요일 데이터) 출력하기\n",
        "for i in range(0, len(a[0])):\n",
        "  print('Mon[', i, '] = ', a[0][i])"
      ],
      "execution_count": null,
      "outputs": [
        {
          "output_type": "stream",
          "text": [
            "[{'num': 0, 'wnum': 0, 'ynum': 0}, {'num': 0, 'wnum': 0, 'ynum': 0}, {'num': 0, 'wnum': 0, 'ynum': 0}, {'num': 0, 'wnum': 0, 'ynum': 0}, {'num': 0, 'wnum': 0, 'ynum': 0}, {'num': 7, 'wnum': 5, 'ynum': 6}, {'num': 4, 'wnum': 1, 'ynum': 3}, {'num': 20, 'wnum': 1, 'ynum': 16}, {'num': 22, 'wnum': 0, 'ynum': 16}, {'num': 17, 'wnum': 4, 'ynum': 16}, {'num': 5, 'wnum': 1, 'ynum': 5}, {'num': 13, 'wnum': 5, 'ynum': 13}, {'num': 19, 'wnum': 11, 'ynum': 18}, {'num': 9, 'wnum': 5, 'ynum': 1}, {'num': 14, 'wnum': 10, 'ynum': 4}, {'num': 18, 'wnum': 16, 'ynum': 4}, {'num': 15, 'wnum': 13, 'ynum': 2}, {'num': 13, 'wnum': 5, 'ynum': 10}, {'num': 18, 'wnum': 13, 'ynum': 14}, {'num': 16, 'wnum': 16, 'ynum': 13}, {'num': 8, 'wnum': 5, 'ynum': 7}, {'num': 10, 'wnum': 8, 'ynum': 7}, {'num': 10, 'wnum': 8, 'ynum': 10}, {'num': 4, 'wnum': 0, 'ynum': 10}]\n",
            "Mon[ 0 ] =  {'num': 0, 'wnum': 0, 'ynum': 0}\n",
            "Mon[ 1 ] =  {'num': 0, 'wnum': 0, 'ynum': 0}\n",
            "Mon[ 2 ] =  {'num': 0, 'wnum': 0, 'ynum': 0}\n",
            "Mon[ 3 ] =  {'num': 0, 'wnum': 0, 'ynum': 0}\n",
            "Mon[ 4 ] =  {'num': 0, 'wnum': 0, 'ynum': 0}\n",
            "Mon[ 5 ] =  {'num': 7, 'wnum': 5, 'ynum': 6}\n",
            "Mon[ 6 ] =  {'num': 4, 'wnum': 1, 'ynum': 3}\n",
            "Mon[ 7 ] =  {'num': 20, 'wnum': 1, 'ynum': 16}\n",
            "Mon[ 8 ] =  {'num': 22, 'wnum': 0, 'ynum': 16}\n",
            "Mon[ 9 ] =  {'num': 17, 'wnum': 4, 'ynum': 16}\n",
            "Mon[ 10 ] =  {'num': 5, 'wnum': 1, 'ynum': 5}\n",
            "Mon[ 11 ] =  {'num': 13, 'wnum': 5, 'ynum': 13}\n",
            "Mon[ 12 ] =  {'num': 19, 'wnum': 11, 'ynum': 18}\n",
            "Mon[ 13 ] =  {'num': 9, 'wnum': 5, 'ynum': 1}\n",
            "Mon[ 14 ] =  {'num': 14, 'wnum': 10, 'ynum': 4}\n",
            "Mon[ 15 ] =  {'num': 18, 'wnum': 16, 'ynum': 4}\n",
            "Mon[ 16 ] =  {'num': 15, 'wnum': 13, 'ynum': 2}\n",
            "Mon[ 17 ] =  {'num': 13, 'wnum': 5, 'ynum': 10}\n",
            "Mon[ 18 ] =  {'num': 18, 'wnum': 13, 'ynum': 14}\n",
            "Mon[ 19 ] =  {'num': 16, 'wnum': 16, 'ynum': 13}\n",
            "Mon[ 20 ] =  {'num': 8, 'wnum': 5, 'ynum': 7}\n",
            "Mon[ 21 ] =  {'num': 10, 'wnum': 8, 'ynum': 7}\n",
            "Mon[ 22 ] =  {'num': 10, 'wnum': 8, 'ynum': 10}\n",
            "Mon[ 23 ] =  {'num': 4, 'wnum': 0, 'ynum': 10}\n"
          ],
          "name": "stdout"
        }
      ]
    },
    {
      "cell_type": "markdown",
      "metadata": {
        "id": "1AhZiFM92gEr"
      },
      "source": [
        "\n",
        "\n",
        "```\n",
        "$ pip install csv\n",
        "```\n",
        "\n",
        "- csv : comma separated variables => **엑셀파일, 메모장에서 열 수 있다.**\n",
        "- csv 패키지를 설치하고 소스 코드에 import 해야 한다.\n",
        "- csv 데이터 파일은 프로그램 소스 코드와 같은 폴더에 두어야 한다."
      ]
    },
    {
      "cell_type": "markdown",
      "metadata": {
        "id": "WRJWxuPM2ZGQ"
      },
      "source": [
        "## 3) 파일로 저장된 데이터 불러오기\n",
        "\n",
        "---\n",
        "- 데이터를 **리스트**로 저장!\n",
        "- key - value\n",
        "- csv 파일 불러오는 형식 익히기\n",
        "- 코드 읽으며 데이터 구조 이미지로 형성\n",
        "- `OrderedDict`"
      ]
    },
    {
      "cell_type": "code",
      "metadata": {
        "colab": {
          "base_uri": "https://localhost:8080/"
        },
        "id": "pbL70EOq3Dk2",
        "outputId": "17ba2f80-f8e9-4a35-cf38-78f8f38b58b5"
      },
      "source": [
        "import csv\n",
        "\n",
        "# a[i] = dict {num, wnum, ynum} => KEY, 엑셀이나 메모장에서 파일 상태 체크\n",
        "# List size = 7 x 24\n",
        "a = [[],[],[],[],[],[],[]] # 2차원 리스트 선언,  데이터 저장 구조 생각하기\n",
        "\n",
        "with open('/content/passby_data.CSV', 'r') as f:\n",
        "  reader = csv.DictReader(f) # 열(column) 이름을 딕셔너리 key로 지정해 각 행(row)의 정보와 매핑\n",
        "  i = j = 0 # i 요일 j 시간대\n",
        "  for row in reader:\n",
        "    a[i].append(row) # j 시간대의 {num, wnum, ynum}\n",
        "    j = j + 1\n",
        "    if (j % 24 == 0):\n",
        "      i = i + 1\n",
        "\n",
        "x_title = ['MON', 'TUE', 'WED', 'THR', 'FRI', 'SAT', 'SUN']\n",
        "\n",
        "for i in range(0, 7):\n",
        "  for j in range(0, len(a[i])):\n",
        "    print(x_title[i],  j, '시 ~', j+1,'시 =>', a[i][j])"
      ],
      "execution_count": null,
      "outputs": [
        {
          "output_type": "stream",
          "text": [
            "MON 0 시 ~ 1 시 => OrderedDict([('num', '0'), ('wnum', '0'), ('ynum', '0')])\n",
            "MON 1 시 ~ 2 시 => OrderedDict([('num', '0'), ('wnum', '0'), ('ynum', '0')])\n",
            "MON 2 시 ~ 3 시 => OrderedDict([('num', '0'), ('wnum', '0'), ('ynum', '0')])\n",
            "MON 3 시 ~ 4 시 => OrderedDict([('num', '0'), ('wnum', '0'), ('ynum', '0')])\n",
            "MON 4 시 ~ 5 시 => OrderedDict([('num', '0'), ('wnum', '0'), ('ynum', '0')])\n",
            "MON 5 시 ~ 6 시 => OrderedDict([('num', '7'), ('wnum', '5'), ('ynum', '6')])\n",
            "MON 6 시 ~ 7 시 => OrderedDict([('num', '4'), ('wnum', '1'), ('ynum', '3')])\n",
            "MON 7 시 ~ 8 시 => OrderedDict([('num', '20'), ('wnum', '1'), ('ynum', '16')])\n",
            "MON 8 시 ~ 9 시 => OrderedDict([('num', '22'), ('wnum', '0'), ('ynum', '16')])\n",
            "MON 9 시 ~ 10 시 => OrderedDict([('num', '17'), ('wnum', '4'), ('ynum', '16')])\n",
            "MON 10 시 ~ 11 시 => OrderedDict([('num', '5'), ('wnum', '1'), ('ynum', '5')])\n",
            "MON 11 시 ~ 12 시 => OrderedDict([('num', '13'), ('wnum', '5'), ('ynum', '13')])\n",
            "MON 12 시 ~ 13 시 => OrderedDict([('num', '19'), ('wnum', '11'), ('ynum', '18')])\n",
            "MON 13 시 ~ 14 시 => OrderedDict([('num', '9'), ('wnum', '5'), ('ynum', '1')])\n",
            "MON 14 시 ~ 15 시 => OrderedDict([('num', '14'), ('wnum', '10'), ('ynum', '4')])\n",
            "MON 15 시 ~ 16 시 => OrderedDict([('num', '18'), ('wnum', '16'), ('ynum', '4')])\n",
            "MON 16 시 ~ 17 시 => OrderedDict([('num', '15'), ('wnum', '13'), ('ynum', '2')])\n",
            "MON 17 시 ~ 18 시 => OrderedDict([('num', '13'), ('wnum', '5'), ('ynum', '10')])\n",
            "MON 18 시 ~ 19 시 => OrderedDict([('num', '18'), ('wnum', '13'), ('ynum', '14')])\n",
            "MON 19 시 ~ 20 시 => OrderedDict([('num', '16'), ('wnum', '16'), ('ynum', '13')])\n",
            "MON 20 시 ~ 21 시 => OrderedDict([('num', '8'), ('wnum', '5'), ('ynum', '7')])\n",
            "MON 21 시 ~ 22 시 => OrderedDict([('num', '10'), ('wnum', '8'), ('ynum', '7')])\n",
            "MON 22 시 ~ 23 시 => OrderedDict([('num', '10'), ('wnum', '8'), ('ynum', '10')])\n",
            "MON 23 시 ~ 24 시 => OrderedDict([('num', '4'), ('wnum', '0'), ('ynum', '3')])\n",
            "TUE 0 시 ~ 1 시 => OrderedDict([('num', '0'), ('wnum', '0'), ('ynum', '0')])\n",
            "TUE 1 시 ~ 2 시 => OrderedDict([('num', '0'), ('wnum', '0'), ('ynum', '0')])\n",
            "TUE 2 시 ~ 3 시 => OrderedDict([('num', '0'), ('wnum', '0'), ('ynum', '0')])\n",
            "TUE 3 시 ~ 4 시 => OrderedDict([('num', '0'), ('wnum', '0'), ('ynum', '0')])\n",
            "TUE 4 시 ~ 5 시 => OrderedDict([('num', '0'), ('wnum', '0'), ('ynum', '0')])\n",
            "TUE 5 시 ~ 6 시 => OrderedDict([('num', '2'), ('wnum', '1'), ('ynum', '2')])\n",
            "TUE 6 시 ~ 7 시 => OrderedDict([('num', '3'), ('wnum', '1'), ('ynum', '3')])\n",
            "TUE 7 시 ~ 8 시 => OrderedDict([('num', '16'), ('wnum', '4'), ('ynum', '12')])\n",
            "TUE 8 시 ~ 9 시 => OrderedDict([('num', '22'), ('wnum', '22'), ('ynum', '18')])\n",
            "TUE 9 시 ~ 10 시 => OrderedDict([('num', '12'), ('wnum', '4'), ('ynum', '11')])\n",
            "TUE 10 시 ~ 11 시 => OrderedDict([('num', '4'), ('wnum', '4'), ('ynum', '3')])\n",
            "TUE 11 시 ~ 12 시 => OrderedDict([('num', '27'), ('wnum', '19'), ('ynum', '25')])\n",
            "TUE 12 시 ~ 13 시 => OrderedDict([('num', '22'), ('wnum', '15'), ('ynum', '20')])\n",
            "TUE 13 시 ~ 14 시 => OrderedDict([('num', '8'), ('wnum', '5'), ('ynum', '1')])\n",
            "TUE 14 시 ~ 15 시 => OrderedDict([('num', '14'), ('wnum', '13'), ('ynum', '0')])\n",
            "TUE 15 시 ~ 16 시 => OrderedDict([('num', '20'), ('wnum', '14'), ('ynum', '2')])\n",
            "TUE 16 시 ~ 17 시 => OrderedDict([('num', '17'), ('wnum', '13'), ('ynum', '2')])\n",
            "TUE 17 시 ~ 18 시 => OrderedDict([('num', '10'), ('wnum', '8'), ('ynum', '10')])\n",
            "TUE 18 시 ~ 19 시 => OrderedDict([('num', '16'), ('wnum', '8'), ('ynum', '16')])\n",
            "TUE 19 시 ~ 20 시 => OrderedDict([('num', '23'), ('wnum', '3'), ('ynum', '20')])\n",
            "TUE 20 시 ~ 21 시 => OrderedDict([('num', '18'), ('wnum', '7'), ('ynum', '17')])\n",
            "TUE 21 시 ~ 22 시 => OrderedDict([('num', '6'), ('wnum', '6'), ('ynum', '6')])\n",
            "TUE 22 시 ~ 23 시 => OrderedDict([('num', '12'), ('wnum', '1'), ('ynum', '11')])\n",
            "TUE 23 시 ~ 24 시 => OrderedDict([('num', '4'), ('wnum', '1'), ('ynum', '3')])\n",
            "WED 0 시 ~ 1 시 => OrderedDict([('num', '3'), ('wnum', '0'), ('ynum', '3')])\n",
            "WED 1 시 ~ 2 시 => OrderedDict([('num', '0'), ('wnum', '0'), ('ynum', '0')])\n",
            "WED 2 시 ~ 3 시 => OrderedDict([('num', '0'), ('wnum', '0'), ('ynum', '0')])\n",
            "WED 3 시 ~ 4 시 => OrderedDict([('num', '0'), ('wnum', '0'), ('ynum', '0')])\n",
            "WED 4 시 ~ 5 시 => OrderedDict([('num', '0'), ('wnum', '0'), ('ynum', '0')])\n",
            "WED 5 시 ~ 6 시 => OrderedDict([('num', '3'), ('wnum', '2'), ('ynum', '3')])\n",
            "WED 6 시 ~ 7 시 => OrderedDict([('num', '2'), ('wnum', '0'), ('ynum', '2')])\n",
            "WED 7 시 ~ 8 시 => OrderedDict([('num', '19'), ('wnum', '3'), ('ynum', '14')])\n",
            "WED 8 시 ~ 9 시 => OrderedDict([('num', '24'), ('wnum', '7'), ('ynum', '17')])\n",
            "WED 9 시 ~ 10 시 => OrderedDict([('num', '10'), ('wnum', '7'), ('ynum', '10')])\n",
            "WED 10 시 ~ 11 시 => OrderedDict([('num', '2'), ('wnum', '2'), ('ynum', '2')])\n",
            "WED 11 시 ~ 12 시 => OrderedDict([('num', '23'), ('wnum', '3'), ('ynum', '17')])\n",
            "WED 12 시 ~ 13 시 => OrderedDict([('num', '12'), ('wnum', '0'), ('ynum', '12')])\n",
            "WED 13 시 ~ 14 시 => OrderedDict([('num', '8'), ('wnum', '1'), ('ynum', '1')])\n",
            "WED 14 시 ~ 15 시 => OrderedDict([('num', '18'), ('wnum', '16'), ('ynum', '7')])\n",
            "WED 15 시 ~ 16 시 => OrderedDict([('num', '22'), ('wnum', '21'), ('ynum', '8')])\n",
            "WED 16 시 ~ 17 시 => OrderedDict([('num', '13'), ('wnum', '13'), ('ynum', '4')])\n",
            "WED 17 시 ~ 18 시 => OrderedDict([('num', '8'), ('wnum', '1'), ('ynum', '8')])\n",
            "WED 18 시 ~ 19 시 => OrderedDict([('num', '22'), ('wnum', '6'), ('ynum', '18')])\n",
            "WED 19 시 ~ 20 시 => OrderedDict([('num', '18'), ('wnum', '10'), ('ynum', '13')])\n",
            "WED 20 시 ~ 21 시 => OrderedDict([('num', '13'), ('wnum', '11'), ('ynum', '12')])\n",
            "WED 21 시 ~ 22 시 => OrderedDict([('num', '8'), ('wnum', '3'), ('ynum', '8')])\n",
            "WED 22 시 ~ 23 시 => OrderedDict([('num', '4'), ('wnum', '1'), ('ynum', '3')])\n",
            "WED 23 시 ~ 24 시 => OrderedDict([('num', '5'), ('wnum', '5'), ('ynum', '5')])\n",
            "THR 0 시 ~ 1 시 => OrderedDict([('num', '1'), ('wnum', '1'), ('ynum', '1')])\n",
            "THR 1 시 ~ 2 시 => OrderedDict([('num', '0'), ('wnum', '0'), ('ynum', '0')])\n",
            "THR 2 시 ~ 3 시 => OrderedDict([('num', '0'), ('wnum', '0'), ('ynum', '0')])\n",
            "THR 3 시 ~ 4 시 => OrderedDict([('num', '0'), ('wnum', '0'), ('ynum', '0')])\n",
            "THR 4 시 ~ 5 시 => OrderedDict([('num', '0'), ('wnum', '0'), ('ynum', '0')])\n",
            "THR 5 시 ~ 6 시 => OrderedDict([('num', '3'), ('wnum', '0'), ('ynum', '3')])\n",
            "THR 6 시 ~ 7 시 => OrderedDict([('num', '3'), ('wnum', '3'), ('ynum', '3')])\n",
            "THR 7 시 ~ 8 시 => OrderedDict([('num', '16'), ('wnum', '4'), ('ynum', '13')])\n",
            "THR 8 시 ~ 9 시 => OrderedDict([('num', '23'), ('wnum', '17'), ('ynum', '18')])\n",
            "THR 9 시 ~ 10 시 => OrderedDict([('num', '15'), ('wnum', '7'), ('ynum', '14')])\n",
            "THR 10 시 ~ 11 시 => OrderedDict([('num', '3'), ('wnum', '1'), ('ynum', '3')])\n",
            "THR 11 시 ~ 12 시 => OrderedDict([('num', '22'), ('wnum', '2'), ('ynum', '20')])\n",
            "THR 12 시 ~ 13 시 => OrderedDict([('num', '16'), ('wnum', '10'), ('ynum', '14')])\n",
            "THR 13 시 ~ 14 시 => OrderedDict([('num', '6'), ('wnum', '1'), ('ynum', '1')])\n",
            "THR 14 시 ~ 15 시 => OrderedDict([('num', '10'), ('wnum', '8'), ('ynum', '2')])\n",
            "THR 15 시 ~ 16 시 => OrderedDict([('num', '11'), ('wnum', '8'), ('ynum', '3')])\n",
            "THR 16 시 ~ 17 시 => OrderedDict([('num', '8'), ('wnum', '8'), ('ynum', '0')])\n",
            "THR 17 시 ~ 18 시 => OrderedDict([('num', '8'), ('wnum', '3'), ('ynum', '8')])\n",
            "THR 18 시 ~ 19 시 => OrderedDict([('num', '20'), ('wnum', '8'), ('ynum', '17')])\n",
            "THR 19 시 ~ 20 시 => OrderedDict([('num', '21'), ('wnum', '4'), ('ynum', '18')])\n",
            "THR 20 시 ~ 21 시 => OrderedDict([('num', '17'), ('wnum', '3'), ('ynum', '17')])\n",
            "THR 21 시 ~ 22 시 => OrderedDict([('num', '5'), ('wnum', '2'), ('ynum', '5')])\n",
            "THR 22 시 ~ 23 시 => OrderedDict([('num', '8'), ('wnum', '8'), ('ynum', '7')])\n",
            "THR 23 시 ~ 24 시 => OrderedDict([('num', '7'), ('wnum', '6'), ('ynum', '5')])\n",
            "FRI 0 시 ~ 1 시 => OrderedDict([('num', '3'), ('wnum', '0'), ('ynum', '3')])\n",
            "FRI 1 시 ~ 2 시 => OrderedDict([('num', '0'), ('wnum', '0'), ('ynum', '0')])\n",
            "FRI 2 시 ~ 3 시 => OrderedDict([('num', '0'), ('wnum', '0'), ('ynum', '0')])\n",
            "FRI 3 시 ~ 4 시 => OrderedDict([('num', '0'), ('wnum', '0'), ('ynum', '0')])\n",
            "FRI 4 시 ~ 5 시 => OrderedDict([('num', '0'), ('wnum', '0'), ('ynum', '0')])\n",
            "FRI 5 시 ~ 6 시 => OrderedDict([('num', '3'), ('wnum', '2'), ('ynum', '3')])\n",
            "FRI 6 시 ~ 7 시 => OrderedDict([('num', '3'), ('wnum', '2'), ('ynum', '3')])\n",
            "FRI 7 시 ~ 8 시 => OrderedDict([('num', '17'), ('wnum', '7'), ('ynum', '16')])\n",
            "FRI 8 시 ~ 9 시 => OrderedDict([('num', '24'), ('wnum', '8'), ('ynum', '18')])\n",
            "FRI 9 시 ~ 10 시 => OrderedDict([('num', '12'), ('wnum', '5'), ('ynum', '11')])\n",
            "FRI 10 시 ~ 11 시 => OrderedDict([('num', '5'), ('wnum', '1'), ('ynum', '4')])\n",
            "FRI 11 시 ~ 12 시 => OrderedDict([('num', '25'), ('wnum', '21'), ('ynum', '18')])\n",
            "FRI 12 시 ~ 13 시 => OrderedDict([('num', '21'), ('wnum', '18'), ('ynum', '15')])\n",
            "FRI 13 시 ~ 14 시 => OrderedDict([('num', '12'), ('wnum', '1'), ('ynum', '2')])\n",
            "FRI 14 시 ~ 15 시 => OrderedDict([('num', '9'), ('wnum', '9'), ('ynum', '2')])\n",
            "FRI 15 시 ~ 16 시 => OrderedDict([('num', '16'), ('wnum', '15'), ('ynum', '5')])\n",
            "FRI 16 시 ~ 17 시 => OrderedDict([('num', '12'), ('wnum', '9'), ('ynum', '0')])\n",
            "FRI 17 시 ~ 18 시 => OrderedDict([('num', '9'), ('wnum', '8'), ('ynum', '8')])\n",
            "FRI 18 시 ~ 19 시 => OrderedDict([('num', '23'), ('wnum', '6'), ('ynum', '22')])\n",
            "FRI 19 시 ~ 20 시 => OrderedDict([('num', '20'), ('wnum', '16'), ('ynum', '18')])\n",
            "FRI 20 시 ~ 21 시 => OrderedDict([('num', '21'), ('wnum', '8'), ('ynum', '20')])\n",
            "FRI 21 시 ~ 22 시 => OrderedDict([('num', '8'), ('wnum', '0'), ('ynum', '6')])\n",
            "FRI 22 시 ~ 23 시 => OrderedDict([('num', '12'), ('wnum', '4'), ('ynum', '11')])\n",
            "FRI 23 시 ~ 24 시 => OrderedDict([('num', '8'), ('wnum', '5'), ('ynum', '8')])\n",
            "SAT 0 시 ~ 1 시 => OrderedDict([('num', '2'), ('wnum', '1'), ('ynum', '2')])\n",
            "SAT 1 시 ~ 2 시 => OrderedDict([('num', '0'), ('wnum', '0'), ('ynum', '0')])\n",
            "SAT 2 시 ~ 3 시 => OrderedDict([('num', '0'), ('wnum', '0'), ('ynum', '0')])\n",
            "SAT 3 시 ~ 4 시 => OrderedDict([('num', '0'), ('wnum', '0'), ('ynum', '0')])\n",
            "SAT 4 시 ~ 5 시 => OrderedDict([('num', '0'), ('wnum', '0'), ('ynum', '0')])\n",
            "SAT 5 시 ~ 6 시 => OrderedDict([('num', '0'), ('wnum', '0'), ('ynum', '0')])\n",
            "SAT 6 시 ~ 7 시 => OrderedDict([('num', '0'), ('wnum', '0'), ('ynum', '0')])\n",
            "SAT 7 시 ~ 8 시 => OrderedDict([('num', '0'), ('wnum', '0'), ('ynum', '0')])\n",
            "SAT 8 시 ~ 9 시 => OrderedDict([('num', '0'), ('wnum', '0'), ('ynum', '0')])\n",
            "SAT 9 시 ~ 10 시 => OrderedDict([('num', '5'), ('wnum', '4'), ('ynum', '4')])\n",
            "SAT 10 시 ~ 11 시 => OrderedDict([('num', '6'), ('wnum', '3'), ('ynum', '5')])\n",
            "SAT 11 시 ~ 12 시 => OrderedDict([('num', '17'), ('wnum', '6'), ('ynum', '15')])\n",
            "SAT 12 시 ~ 13 시 => OrderedDict([('num', '15'), ('wnum', '8'), ('ynum', '11')])\n",
            "SAT 13 시 ~ 14 시 => OrderedDict([('num', '0'), ('wnum', '0'), ('ynum', '0')])\n",
            "SAT 14 시 ~ 15 시 => OrderedDict([('num', '0'), ('wnum', '0'), ('ynum', '0')])\n",
            "SAT 15 시 ~ 16 시 => OrderedDict([('num', '0'), ('wnum', '0'), ('ynum', '0')])\n",
            "SAT 16 시 ~ 17 시 => OrderedDict([('num', '0'), ('wnum', '0'), ('ynum', '0')])\n",
            "SAT 17 시 ~ 18 시 => OrderedDict([('num', '12'), ('wnum', '1'), ('ynum', '9')])\n",
            "SAT 18 시 ~ 19 시 => OrderedDict([('num', '16'), ('wnum', '11'), ('ynum', '16')])\n",
            "SAT 19 시 ~ 20 시 => OrderedDict([('num', '8'), ('wnum', '3'), ('ynum', '6')])\n",
            "SAT 20 시 ~ 21 시 => OrderedDict([('num', '0'), ('wnum', '0'), ('ynum', '0')])\n",
            "SAT 21 시 ~ 22 시 => OrderedDict([('num', '0'), ('wnum', '0'), ('ynum', '0')])\n",
            "SAT 22 시 ~ 23 시 => OrderedDict([('num', '0'), ('wnum', '0'), ('ynum', '0')])\n",
            "SAT 23 시 ~ 24 시 => OrderedDict([('num', '0'), ('wnum', '0'), ('ynum', '0')])\n",
            "SUN 0 시 ~ 1 시 => OrderedDict([('num', '0'), ('wnum', '0'), ('ynum', '0')])\n",
            "SUN 1 시 ~ 2 시 => OrderedDict([('num', '0'), ('wnum', '0'), ('ynum', '0')])\n",
            "SUN 2 시 ~ 3 시 => OrderedDict([('num', '0'), ('wnum', '0'), ('ynum', '0')])\n",
            "SUN 3 시 ~ 4 시 => OrderedDict([('num', '0'), ('wnum', '0'), ('ynum', '0')])\n",
            "SUN 4 시 ~ 5 시 => OrderedDict([('num', '0'), ('wnum', '0'), ('ynum', '0')])\n",
            "SUN 5 시 ~ 6 시 => OrderedDict([('num', '0'), ('wnum', '0'), ('ynum', '0')])\n",
            "SUN 6 시 ~ 7 시 => OrderedDict([('num', '0'), ('wnum', '0'), ('ynum', '0')])\n",
            "SUN 7 시 ~ 8 시 => OrderedDict([('num', '0'), ('wnum', '0'), ('ynum', '0')])\n",
            "SUN 8 시 ~ 9 시 => OrderedDict([('num', '0'), ('wnum', '0'), ('ynum', '0')])\n",
            "SUN 9 시 ~ 10 시 => OrderedDict([('num', '0'), ('wnum', '0'), ('ynum', '0')])\n",
            "SUN 10 시 ~ 11 시 => OrderedDict([('num', '0'), ('wnum', '0'), ('ynum', '0')])\n",
            "SUN 11 시 ~ 12 시 => OrderedDict([('num', '12'), ('wnum', '12'), ('ynum', '12')])\n",
            "SUN 12 시 ~ 13 시 => OrderedDict([('num', '16'), ('wnum', '5'), ('ynum', '13')])\n",
            "SUN 13 시 ~ 14 시 => OrderedDict([('num', '11'), ('wnum', '1'), ('ynum', '0')])\n",
            "SUN 14 시 ~ 15 시 => OrderedDict([('num', '0'), ('wnum', '0'), ('ynum', '0')])\n",
            "SUN 15 시 ~ 16 시 => OrderedDict([('num', '0'), ('wnum', '0'), ('ynum', '0')])\n",
            "SUN 16 시 ~ 17 시 => OrderedDict([('num', '0'), ('wnum', '0'), ('ynum', '0')])\n",
            "SUN 17 시 ~ 18 시 => OrderedDict([('num', '0'), ('wnum', '0'), ('ynum', '0')])\n",
            "SUN 18 시 ~ 19 시 => OrderedDict([('num', '7'), ('wnum', '4'), ('ynum', '5')])\n",
            "SUN 19 시 ~ 20 시 => OrderedDict([('num', '0'), ('wnum', '0'), ('ynum', '0')])\n",
            "SUN 20 시 ~ 21 시 => OrderedDict([('num', '0'), ('wnum', '0'), ('ynum', '0')])\n",
            "SUN 21 시 ~ 22 시 => OrderedDict([('num', '0'), ('wnum', '0'), ('ynum', '0')])\n",
            "SUN 22 시 ~ 23 시 => OrderedDict([('num', '0'), ('wnum', '0'), ('ynum', '0')])\n",
            "SUN 23 시 ~ 24 시 => OrderedDict([('num', '0'), ('wnum', '0'), ('ynum', '0')])\n"
          ],
          "name": "stdout"
        }
      ]
    },
    {
      "cell_type": "markdown",
      "metadata": {
        "id": "t8nh-pNM8mhK"
      },
      "source": [
        "## 4) 데이터로부터 시간대별 평균 유동 인구수 구하기"
      ]
    },
    {
      "cell_type": "code",
      "metadata": {
        "colab": {
          "base_uri": "https://localhost:8080/"
        },
        "id": "Ec910KeH369b",
        "outputId": "cfb20c9f-3669-468a-a7a2-c378d1484f99"
      },
      "source": [
        "# 위 코드 실행\n",
        "\n",
        "avgh = []\n",
        "\n",
        "# `각 시간대 (0~23)`의 모든 요일의 유동인구의 합 구하기\n",
        "for j in range(0, 24):\n",
        "  day_sum = 0\n",
        "  # 각 시간대의 `모든 요일(0~6)`의 유동인구의 합 구하기\n",
        "  for i in range(0, 7):\n",
        "    day_sum = day_sum + int(a[i][j]['num'])\n",
        "  # print(day_sum)\n",
        "  avgh.append(day_sum / 7)\n",
        "\n",
        "\n",
        "# 요일 제목\n",
        "day_title = ['MON', 'TUE', 'WED', 'THR', 'FRI', 'SAT', 'SUN']\n",
        "# 시간대 제목\n",
        "hour_title = ['01', '02', '03', '04', '05', '06', \\\n",
        "              '07', '08', '09', '10', '11', '12', \\\n",
        "              '13', '14', '15', '16', '17', '18', \\\n",
        "              '19', '20', '21', '22', '23', '24']\n",
        "\n",
        "print('시간대별 평균 유동 인구 수')\n",
        "for j in range(0, 24):\n",
        "  print('[~{0}:00]:{1:5}'.format(hour_title[j], int(avgh[j]))) # {:5} 이건 띄어쓰기 같다. ...??"
      ],
      "execution_count": null,
      "outputs": [
        {
          "output_type": "stream",
          "text": [
            "시간대별 평균 유동 인구 수\n",
            "[~01:00]:    1\n",
            "[~02:00]:    0\n",
            "[~03:00]:    0\n",
            "[~04:00]:    0\n",
            "[~05:00]:    0\n",
            "[~06:00]:    2\n",
            "[~07:00]:    2\n",
            "[~08:00]:   12\n",
            "[~09:00]:   16\n",
            "[~10:00]:   10\n",
            "[~11:00]:    3\n",
            "[~12:00]:   19\n",
            "[~13:00]:   17\n",
            "[~14:00]:    7\n",
            "[~15:00]:    9\n",
            "[~16:00]:   12\n",
            "[~17:00]:    9\n",
            "[~18:00]:    8\n",
            "[~19:00]:   17\n",
            "[~20:00]:   15\n",
            "[~21:00]:   11\n",
            "[~22:00]:    5\n",
            "[~23:00]:    6\n",
            "[~24:00]:    4\n"
          ],
          "name": "stdout"
        }
      ]
    },
    {
      "cell_type": "code",
      "metadata": {
        "colab": {
          "base_uri": "https://localhost:8080/"
        },
        "id": "2Pf7eAy5AeLr",
        "outputId": "7b4066a5-c4e7-4395-fa11-ef468831c372"
      },
      "source": [
        "# 1-1) 시간대별 여성의 유동 인구 수\n",
        "avgh_w = [] \n",
        "for j in range(24):\n",
        "  day_sum_w = 0\n",
        "  for i in range(7):\n",
        "    day_sum_w = day_sum_w + int(a[i][j]['wnum']) # DictReader(f) => string\n",
        "  # print(day_sum_w)\n",
        "  avgh_w.append(day_sum_w / 7) # => List\n",
        "  # print(avgh_w)\n",
        "\n",
        "# 시간대 제목\n",
        "hour_title = ['01', '02', '03', '04', '05', '06', \\\n",
        "              '07', '08', '09', '10', '11', '12', \\\n",
        "              '13', '14', '15', '16', '17', '18', \\\n",
        "              '19', '20', '21', '22', '23', '24']\n",
        "\n",
        "print('시간대별 여성의 유동 인구 수')\n",
        "for j in range(24):\n",
        "  print('~{0}:00 => {1:5}명'.format(hour_title[j], int(avgh_w[j]))) # 소숫점 싫으면 정수로 int()"
      ],
      "execution_count": null,
      "outputs": [
        {
          "output_type": "stream",
          "text": [
            "시간대별 여성의 유동 인구 수\n",
            "~01:00 =>     0명\n",
            "~02:00 =>     0명\n",
            "~03:00 =>     0명\n",
            "~04:00 =>     0명\n",
            "~05:00 =>     0명\n",
            "~06:00 =>     1명\n",
            "~07:00 =>     1명\n",
            "~08:00 =>     2명\n",
            "~09:00 =>     7명\n",
            "~10:00 =>     4명\n",
            "~11:00 =>     1명\n",
            "~12:00 =>     9명\n",
            "~13:00 =>     9명\n",
            "~14:00 =>     2명\n",
            "~15:00 =>     8명\n",
            "~16:00 =>    10명\n",
            "~17:00 =>     8명\n",
            "~18:00 =>     3명\n",
            "~19:00 =>     8명\n",
            "~20:00 =>     7명\n",
            "~21:00 =>     4명\n",
            "~22:00 =>     2명\n",
            "~23:00 =>     3명\n",
            "~24:00 =>     2명\n"
          ],
          "name": "stdout"
        }
      ]
    },
    {
      "cell_type": "code",
      "metadata": {
        "id": "yrA_ZtdaFVSg"
      },
      "source": [
        "# 1-2) 시간대별 30대 이하 유동 인구 수\n",
        "# key 값만 바꾸면 뽑아낼 수 있다."
      ],
      "execution_count": null,
      "outputs": []
    },
    {
      "cell_type": "code",
      "metadata": {
        "colab": {
          "base_uri": "https://localhost:8080/"
        },
        "id": "Ob9imo1yFZT6",
        "outputId": "79a763fc-6da2-46f5-ac14-6f9271195706"
      },
      "source": [
        "# 주중과 주말을 비교했을 때 차이가 컸다. (편차가 큼)\n",
        "# 2) 시간대별 평균 유동 인구 수를 주중 데이터만 사용해서 산출해보자.\n",
        "# => i 값의 range를 5로 바꾸면 된다.\n",
        "\n",
        "avgh_weekday = []\n",
        "\n",
        "for j in range(24):\n",
        "  sum_weekday = 0\n",
        "  for i in range(5): # 주중\n",
        "    sum_weekday = sum_weekday + int(a[i][j]['num'])\n",
        "  # print(sum_weekday)\n",
        "  avgh_weekday.append(sum_weekday / 5)\n",
        "  # print(avgh_weekday)\n",
        "\n",
        "# 시간대 제목\n",
        "hour_title = ['01', '02', '03', '04', '05', '06', \\\n",
        "              '07', '08', '09', '10', '11', '12', \\\n",
        "              '13', '14', '15', '16', '17', '18', \\\n",
        "              '19', '20', '21', '22', '23', '24']\n",
        "\n",
        "print('주중 유동 인구 수')\n",
        "for j in range(24):\n",
        "  print('~{0}:00 => {1:5} 명'.format(hour_title[j], int(avgh_weekday[j])))"
      ],
      "execution_count": null,
      "outputs": [
        {
          "output_type": "stream",
          "text": [
            "주중 유동 인구 수\n",
            "~01:00 =>     1 명\n",
            "~02:00 =>     0 명\n",
            "~03:00 =>     0 명\n",
            "~04:00 =>     0 명\n",
            "~05:00 =>     0 명\n",
            "~06:00 =>     3 명\n",
            "~07:00 =>     3 명\n",
            "~08:00 =>    17 명\n",
            "~09:00 =>    23 명\n",
            "~10:00 =>    13 명\n",
            "~11:00 =>     3 명\n",
            "~12:00 =>    22 명\n",
            "~13:00 =>    18 명\n",
            "~14:00 =>     8 명\n",
            "~15:00 =>    13 명\n",
            "~16:00 =>    17 명\n",
            "~17:00 =>    13 명\n",
            "~18:00 =>     9 명\n",
            "~19:00 =>    19 명\n",
            "~20:00 =>    19 명\n",
            "~21:00 =>    15 명\n",
            "~22:00 =>     7 명\n",
            "~23:00 =>     9 명\n",
            "~24:00 =>     5 명\n"
          ],
          "name": "stdout"
        }
      ]
    },
    {
      "cell_type": "markdown",
      "metadata": {
        "id": "Kf6uhmHnPgG0"
      },
      "source": [
        "# 3> 생활 데이터 가공하기\n",
        "\n",
        "- 데이터 전처리\n",
        "  - 필요한 항목을 잘 골라내고 한 번 조사할 때 한꺼번에 데이터를 추출하면 작업 시간을 줄일 수 있다.\n",
        "- 그래프로 시각화 ***Visualization***\n",
        "  - 숫자만 나열해서는 데이터의 흐름을 놓치기 쉽다.\n",
        "\n",
        "  - 의사 경정을 위해 판단에 필요한 근거(지식)를 검증하는 과정이 필요하다면, 이를 위해 적절한 데이터를 수집하고 유의미하게 가공해야 한다."
      ]
    },
    {
      "cell_type": "code",
      "metadata": {
        "colab": {
          "base_uri": "https://localhost:8080/",
          "height": 314
        },
        "id": "2Lb9RIo-MoHM",
        "outputId": "5b105a4a-902d-46fa-8304-26f1724406ab"
      },
      "source": [
        "import matplotlib.pyplot as plt\n",
        "\n",
        "plt.title('Hourly Passerby Data', fontsize = 16)\n",
        "plt.xlabel('Hour', fontsize = 10)\n",
        "plt.ylabel('Number of Passerby', fontsize = 12)\n",
        "\n",
        "plt.scatter(hour_title, avgh, c = 'blue', label = 'total avg.')\n",
        "plt.plot(hour_title, avgh,)\n",
        "\n",
        "plt.plot(hour_title, avgh_w, c = 'red', label = 'women')\n",
        "plt.plot(hour_title, avgh_weekday, c = 'green', label = 'weekday')\n",
        "\n",
        "plt.legend() # 범례 표시\n",
        "plt.show"
      ],
      "execution_count": null,
      "outputs": [
        {
          "output_type": "execute_result",
          "data": {
            "text/plain": [
              "<function matplotlib.pyplot.show>"
            ]
          },
          "metadata": {},
          "execution_count": 88
        },
        {
          "output_type": "display_data",
          "data": {
            "image/png": "[encoded data removed]",
            "text/plain": [
              "<Figure size 432x288 with 1 Axes>"
            ]
          },
          "metadata": {
            "needs_background": "light"
          }
        }
      ]
    },
    {
      "cell_type": "code",
      "metadata": {
        "id": "Q2irPPZrRKUB"
      },
      "source": [
        ""
      ],
      "execution_count": null,
      "outputs": []
    }
  ]
}